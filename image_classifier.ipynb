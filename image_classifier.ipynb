{
  "cells": [
    {
      "cell_type": "code",
      "source": [
        "import torch.nn as nn\n",
        "\n",
        "class SimpleNN(nn.Module):\n",
        "    def __init__(self):            # Initialization\n",
        "        super(SimpleNN, self).__init__()\n",
        "        self.fc1 = nn.Linear(28*28, 128)\n",
        "        self.relu = nn.ReLU()\n",
        "        self.fc2 = nn.Linear(128, 10)\n",
        "\n",
        "    def forward(self, x):           # Forward pass\n",
        "        x = x.view(-1, 28*28)\n",
        "        x = self.fc1(x)\n",
        "        x = self.relu(x)\n",
        "        x = self.fc2(x)\n",
        "        return x\n",
        "\n",
        "import torch\n",
        "\n",
        "class CNN(nn.Module):\n",
        "    def __init__(self):\n",
        "        super(CNN, self).__init__()\n",
        "        self.conv1 = nn.Conv2d(1, 32, kernel_size=3, padding=1)  # Input: 1 channel, Output: 32 channels\n",
        "        self.conv2 = nn.Conv2d(32, 64, kernel_size=3, padding=1)  # Input: 32 channels, Output: 64 channels\n",
        "        self.fc1 = nn.Linear(64 * 7 * 7, 64)  # Flattened input size: 64 * 7 * 7 (after 2 max-pool operations)\n",
        "        self.fc2 = nn.Linear(64, 10)  # Output layer with 10 classes (0-9)\n",
        "\n",
        "    def forward(self, x):\n",
        "        x = torch.relu(self.conv1(x))\n",
        "        x = torch.max_pool2d(x, 2)\n",
        "        x = torch.relu(self.conv2(x))\n",
        "        x = torch.max_pool2d(x, 2)\n",
        "        x = x.view(-1, 64 * 7 * 7)  # Flatten the tensor\n",
        "        x = torch.relu(self.fc1(x))\n",
        "        x = self.fc2(x)\n",
        "        return x\n",
        "\n",
        "import matplotlib.pyplot as plt\n",
        "\n",
        "def training_loop(images, labels, model, criterion, train_loader, optimizer, epochs):\n",
        "    for epoch in range(epochs):\n",
        "        for images, labels in train_loader:\n",
        "            optimizer.zero_grad()\n",
        "            outputs = model(images)\n",
        "            loss = criterion(outputs, labels)\n",
        "            loss.backward()\n",
        "            optimizer.step()\n",
        "        print(f\"Epoch {epoch+1} completed.\")\n",
        "    print(\"Pytorch model training completed.\")\n",
        "\n",
        "def show_images(dataset, num_images=5):\n",
        "    fig, axes = plt.subplots(1, num_images, figsize=(10,3))\n",
        "    for i in range(num_images):\n",
        "        image, label = dataset[i]\n",
        "        axes[i].imshow(image.squeeze(), cmap='grey')\n",
        "        axes[i].set_title(f\"Label:{label}\")\n",
        "        axes[i].axis(\"off\")\n",
        "    plt.show()\n",
        "\n",
        "import torch\n",
        "import torch.nn as nn\n",
        "import torch.optim as optim\n",
        "from torch.optim.lr_scheduler import StepLR\n",
        "\n",
        "def train_model(model, train_loader, criterion, optimizer, scheduler, num_epochs=5, device=\"cuda\" if torch.cuda.is_available() else \"cpu\"):\n",
        "    \"\"\"Train the CNN model with data augmentation, regularization, and learning rate scheduling.\"\"\"\n",
        "    model.to(device)\n",
        "\n",
        "    for epoch in range(num_epochs):\n",
        "        model.train()\n",
        "        running_loss = 0.0\n",
        "        correct = 0\n",
        "        total = 0\n",
        "\n",
        "        for images, labels in train_loader:\n",
        "            images, labels = images.to(device), labels.to(device)\n",
        "\n",
        "            optimizer.zero_grad()  # Reset gradients\n",
        "            outputs = model(images)  # Forward pass\n",
        "            loss = criterion(outputs, labels)  # Compute loss\n",
        "            loss.backward()  # Backpropagation\n",
        "            optimizer.step()  # Update weights\n",
        "\n",
        "            running_loss += loss.item()\n",
        "            _, predicted = torch.max(outputs.data, 1)\n",
        "            total += labels.size(0)\n",
        "            correct += (predicted == labels).sum().item()\n",
        "\n",
        "        scheduler.step()  # Adjust learning rate\n",
        "\n",
        "        print(f'Epoch [{epoch+1}/{num_epochs}], Loss: {running_loss/len(train_loader):.4f}, Accuracy: {100 * correct/total:.2f}%')\n",
        "\n",
        "    print(\"Training complete!\")\n",
        "\n",
        "def create_optimizer(model, learning_rate=0.001, weight_decay=1e-4):\n",
        "    \"\"\"Returns an Adam optimizer with weight decay for regularization.\"\"\"\n",
        "    return optim.Adam(model.parameters(), lr=learning_rate, weight_decay=weight_decay)\n",
        "\n",
        "def create_scheduler(optimizer, step_size=2, gamma=0.5):\n",
        "    \"\"\"Returns a learning rate scheduler that reduces LR by `gamma` every `step_size` epochs.\"\"\"\n",
        "    return StepLR(optimizer, step_size=step_size, gamma=gamma)"
      ],
      "metadata": {
        "id": "V9sjIAXX5NrT"
      },
      "execution_count": 14,
      "outputs": []
    },
    {
      "cell_type": "code",
      "execution_count": 8,
      "metadata": {
        "id": "dXiCpnys48Cx"
      },
      "outputs": [],
      "source": [
        "# Importing the required libraries\n",
        "import tensorflow as tf\n",
        "from tensorflow.keras.datasets import mnist\n",
        "import torch\n",
        "import torch.nn as nn\n",
        "import torch.optim as optim\n",
        "from torchvision import datasets, transforms\n",
        "from torch.utils.data import DataLoader"
      ]
    },
    {
      "cell_type": "markdown",
      "metadata": {
        "id": "-kuHHJhN48Cz"
      },
      "source": [
        "## Loading the data"
      ]
    },
    {
      "cell_type": "code",
      "execution_count": 9,
      "metadata": {
        "id": "uKBoZH5w48C0"
      },
      "outputs": [],
      "source": [
        "# Load MNIST dataset (TensorFlow/Keras)\n",
        "#(x_train, y_train), (x_test, y_test) = mnist.load_data()"
      ]
    },
    {
      "cell_type": "code",
      "execution_count": 10,
      "metadata": {
        "id": "n5sMm8qO48C0",
        "outputId": "0ca57752-ba7b-41ed-a602-b1cee43e89b5",
        "colab": {
          "base_uri": "https://localhost:8080/"
        }
      },
      "outputs": [
        {
          "output_type": "stream",
          "name": "stdout",
          "text": [
            "Downloading http://yann.lecun.com/exdb/mnist/train-images-idx3-ubyte.gz\n",
            "Failed to download (trying next):\n",
            "HTTP Error 404: Not Found\n",
            "\n",
            "Downloading https://ossci-datasets.s3.amazonaws.com/mnist/train-images-idx3-ubyte.gz\n",
            "Downloading https://ossci-datasets.s3.amazonaws.com/mnist/train-images-idx3-ubyte.gz to ./data/MNIST/raw/train-images-idx3-ubyte.gz\n"
          ]
        },
        {
          "output_type": "stream",
          "name": "stderr",
          "text": [
            "100%|██████████| 9.91M/9.91M [00:01<00:00, 6.07MB/s]\n"
          ]
        },
        {
          "output_type": "stream",
          "name": "stdout",
          "text": [
            "Extracting ./data/MNIST/raw/train-images-idx3-ubyte.gz to ./data/MNIST/raw\n",
            "\n",
            "Downloading http://yann.lecun.com/exdb/mnist/train-labels-idx1-ubyte.gz\n",
            "Failed to download (trying next):\n",
            "HTTP Error 404: Not Found\n",
            "\n",
            "Downloading https://ossci-datasets.s3.amazonaws.com/mnist/train-labels-idx1-ubyte.gz\n",
            "Downloading https://ossci-datasets.s3.amazonaws.com/mnist/train-labels-idx1-ubyte.gz to ./data/MNIST/raw/train-labels-idx1-ubyte.gz\n"
          ]
        },
        {
          "output_type": "stream",
          "name": "stderr",
          "text": [
            "100%|██████████| 28.9k/28.9k [00:00<00:00, 160kB/s]\n"
          ]
        },
        {
          "output_type": "stream",
          "name": "stdout",
          "text": [
            "Extracting ./data/MNIST/raw/train-labels-idx1-ubyte.gz to ./data/MNIST/raw\n",
            "\n",
            "Downloading http://yann.lecun.com/exdb/mnist/t10k-images-idx3-ubyte.gz\n",
            "Failed to download (trying next):\n",
            "HTTP Error 404: Not Found\n",
            "\n",
            "Downloading https://ossci-datasets.s3.amazonaws.com/mnist/t10k-images-idx3-ubyte.gz\n",
            "Downloading https://ossci-datasets.s3.amazonaws.com/mnist/t10k-images-idx3-ubyte.gz to ./data/MNIST/raw/t10k-images-idx3-ubyte.gz\n"
          ]
        },
        {
          "output_type": "stream",
          "name": "stderr",
          "text": [
            "100%|██████████| 1.65M/1.65M [00:01<00:00, 1.51MB/s]\n"
          ]
        },
        {
          "output_type": "stream",
          "name": "stdout",
          "text": [
            "Extracting ./data/MNIST/raw/t10k-images-idx3-ubyte.gz to ./data/MNIST/raw\n",
            "\n",
            "Downloading http://yann.lecun.com/exdb/mnist/t10k-labels-idx1-ubyte.gz\n",
            "Failed to download (trying next):\n",
            "HTTP Error 404: Not Found\n",
            "\n",
            "Downloading https://ossci-datasets.s3.amazonaws.com/mnist/t10k-labels-idx1-ubyte.gz\n",
            "Downloading https://ossci-datasets.s3.amazonaws.com/mnist/t10k-labels-idx1-ubyte.gz to ./data/MNIST/raw/t10k-labels-idx1-ubyte.gz\n"
          ]
        },
        {
          "output_type": "stream",
          "name": "stderr",
          "text": [
            "100%|██████████| 4.54k/4.54k [00:00<00:00, 4.46MB/s]"
          ]
        },
        {
          "output_type": "stream",
          "name": "stdout",
          "text": [
            "Extracting ./data/MNIST/raw/t10k-labels-idx1-ubyte.gz to ./data/MNIST/raw\n",
            "\n"
          ]
        },
        {
          "output_type": "stream",
          "name": "stderr",
          "text": [
            "\n"
          ]
        }
      ],
      "source": [
        "# Define transformations for the MNIST dataset\n",
        "transform = transforms.Compose([\n",
        "    transforms.ToTensor(),\n",
        "    transforms.Normalize((0.5,), (0.5,))  # Normalize the images to the range [-1, 1]\n",
        "])\n",
        "\n",
        "# Load the MNIST dataset\n",
        "train_data = datasets.MNIST(root='./data', train=True, download=True, transform=transform)\n",
        "test_data = datasets.MNIST(root='./data', train=False, download=True, transform=transform)\n",
        "\n",
        "train_loader = DataLoader(train_data, batch_size=64, shuffle=True)\n",
        "test_loader = DataLoader(test_data, batch_size=64, shuffle=False)"
      ]
    },
    {
      "cell_type": "markdown",
      "metadata": {
        "id": "lwHBMXBX48C0"
      },
      "source": [
        "Note: Running the above cell will create a new folder called 'data' in your working directory.\n",
        "Let's visualize the images. (Defined a function called `show_images` in `util.py`)"
      ]
    },
    {
      "cell_type": "code",
      "execution_count": 11,
      "metadata": {
        "id": "neH063ov48C1"
      },
      "outputs": [],
      "source": [
        "#show_images(train_dataset)"
      ]
    },
    {
      "cell_type": "markdown",
      "metadata": {
        "id": "jqruWkxH48C1"
      },
      "source": [
        "## Calling the Model\n",
        "\n",
        "The model architecture is defined in `model.py`, and the code below trains and tests the models."
      ]
    },
    {
      "cell_type": "code",
      "execution_count": null,
      "metadata": {
        "id": "JCVNYLZ-48C1"
      },
      "outputs": [],
      "source": [
        "# Calling the model from model.py\n"
      ]
    },
    {
      "cell_type": "markdown",
      "metadata": {
        "id": "WrxPuHfo48C1"
      },
      "source": [
        "Next steps:\n",
        "1. Train the model (change architecture)\n",
        "2. Hyperparameter finetuning (plot some graphs of different hyperparams vs time) and choose the final model on the validation set\n",
        "3. Setup a framework (use `utils.py`) to import images from a different source (e.g manually imported images), and convert them to the required format to be fed into the model\n",
        "4. If you want to be fancy setup a fancy interface for it (some frontend stuff?)\n",
        "5. Create a requirements.txt file (generate automatically)"
      ]
    },
    {
      "cell_type": "markdown",
      "metadata": {
        "id": "KwgQDoNN48C1"
      },
      "source": [
        "## Convolutional Neural Network\n",
        "\n",
        "Research has shown that Convolutional Neural Networks are very good at dealing with image data because they are designed to capture spatial hierarchies adn patterns, which are crucial for understanding visual data.\n",
        "\n",
        "1. **Local Receptive Fields**: CNNs use small filters (kernels) that focus on local regions of an image. These filters help the network detect simple features like edges, corners or textures in small regions of the image. As the network deepends, it can combine these simple features to identify more complex patterns, such as shapes or objects.\n",
        "2. **Weight Sharing**: In CNNs, the same filter (set of weights) is used across different parts of an image. This weight sharing reduces the number of parameters in the model, making ti computationally efficient and allowing the network to generalize better across various positions in an image.\n",
        "\n",
        "### Loss Function\n",
        "Cross Entropy loss is well suited for the MNIST dataset because it is designed for multi-class classification, where the goal is to predict one of the several classes (0-9). It pairs well with the softmax activation function, which outputs a probability distribution, and penalizes incorrect predictions by encouraging high confidence in the correct class."
      ]
    },
    {
      "cell_type": "code",
      "execution_count": 12,
      "metadata": {
        "id": "t9fXnBRU48C2"
      },
      "outputs": [],
      "source": [
        "# Use the model architecture defined in the file cnn.py to train the model.\n",
        "# Use the same split of training data taken above.\n",
        "\n",
        "# Hyperparameters\n",
        "learning_rate = 0.001\n",
        "\n",
        "#Initialize the model, loss function and optimizer\n",
        "cnn_model = CNN()\n",
        "criterion = nn.CrossEntropyLoss()\n",
        "optimizer = optim.Adam(cnn_model.parameters(), lr=learning_rate)"
      ]
    },
    {
      "cell_type": "code",
      "execution_count": 13,
      "metadata": {
        "id": "CLjGzhbh48C2",
        "outputId": "21dad0a7-00a6-4366-f391-577281dadc1b",
        "colab": {
          "base_uri": "https://localhost:8080/"
        }
      },
      "outputs": [
        {
          "output_type": "stream",
          "name": "stdout",
          "text": [
            "Epoch [1/5], Loss: 0.1824, Accuracy: 94.41%\n",
            "Epoch [2/5], Loss: 0.0530, Accuracy: 98.38%\n",
            "Epoch [3/5], Loss: 0.0367, Accuracy: 98.85%\n",
            "Epoch [4/5], Loss: 0.0287, Accuracy: 99.13%\n",
            "Epoch [5/5], Loss: 0.0226, Accuracy: 99.27%\n"
          ]
        }
      ],
      "source": [
        "# Training loop (OLD)\n",
        "num_epochs = 5\n",
        "\n",
        "for epoch in range(num_epochs):\n",
        "    cnn_model.train()\n",
        "    running_loss = 0.0\n",
        "    correct = 0\n",
        "    total = 0\n",
        "\n",
        "    for images, labels in train_loader:\n",
        "        optimizer.zero_grad()\n",
        "\n",
        "        outputs = cnn_model(images)             # Forward pass\n",
        "        loss = criterion(outputs, labels)       # Compute the loss\n",
        "        loss.backward()                         # Backward pass and optimize\n",
        "        optimizer.step()\n",
        "\n",
        "        running_loss += loss.item()\n",
        "        _, predicted = torch.max(outputs.data, 1)\n",
        "\n",
        "        total += labels.size(0)\n",
        "        correct += (predicted == labels).sum().item()\n",
        "    print(f'Epoch [{epoch+1}/{num_epochs}], Loss: {running_loss/len(train_loader):.4f}, Accuracy: {100 * correct/total:.2f}%')"
      ]
    },
    {
      "cell_type": "code",
      "execution_count": 15,
      "metadata": {
        "id": "CM3eXMN548C2",
        "outputId": "d54ce38c-13ec-457e-e11a-ee6b9ff2a989",
        "colab": {
          "base_uri": "https://localhost:8080/"
        }
      },
      "outputs": [
        {
          "output_type": "stream",
          "name": "stdout",
          "text": [
            "Epoch [1/10], Loss: 0.1665, Accuracy: 94.97%\n",
            "Epoch [2/10], Loss: 0.0505, Accuracy: 98.50%\n",
            "Epoch [3/10], Loss: 0.0286, Accuracy: 99.13%\n",
            "Epoch [4/10], Loss: 0.0237, Accuracy: 99.30%\n",
            "Epoch [5/10], Loss: 0.0155, Accuracy: 99.57%\n",
            "Epoch [6/10], Loss: 0.0130, Accuracy: 99.65%\n",
            "Epoch [7/10], Loss: 0.0094, Accuracy: 99.77%\n",
            "Epoch [8/10], Loss: 0.0084, Accuracy: 99.81%\n",
            "Epoch [9/10], Loss: 0.0067, Accuracy: 99.87%\n",
            "Epoch [10/10], Loss: 0.0062, Accuracy: 99.88%\n",
            "Training complete!\n"
          ]
        }
      ],
      "source": [
        "# Training the model using functions from new_model_train\n",
        "\n",
        "model = CNN()\n",
        "criterion = nn.CrossEntropyLoss()\n",
        "optimizer = create_optimizer(model)\n",
        "scheduler = create_scheduler(optimizer)\n",
        "train_model(model, train_loader, criterion, optimizer, scheduler, num_epochs=10)"
      ]
    },
    {
      "cell_type": "code",
      "execution_count": 16,
      "metadata": {
        "id": "O2YBICth48C3",
        "outputId": "a27f5634-4ca8-4391-fdb2-3a97519fa30a",
        "colab": {
          "base_uri": "https://localhost:8080/"
        }
      },
      "outputs": [
        {
          "output_type": "stream",
          "name": "stdout",
          "text": [
            "Test Accuracy: 98.93%\n"
          ]
        }
      ],
      "source": [
        "# Testing the model\n",
        "cnn_model.eval()\n",
        "correct = 0\n",
        "total = 0\n",
        "with torch.no_grad():\n",
        "    for images, labels in test_loader:\n",
        "        outputs = cnn_model(images)\n",
        "        _, predicted = torch.max(outputs.data, 1)\n",
        "        total += labels.size(0)\n",
        "        correct += (predicted == labels).sum().item()\n",
        "print(f'Test Accuracy: {100 * correct / total:.2f}%')"
      ]
    },
    {
      "cell_type": "code",
      "execution_count": 17,
      "metadata": {
        "id": "SKyLGvd148C3"
      },
      "outputs": [],
      "source": [
        "# Save the trained model\n",
        "torch.save(cnn_model.state_dict(), 'mnist_cnn.pth')"
      ]
    },
    {
      "cell_type": "markdown",
      "metadata": {
        "id": "3kqXvWd048C3"
      },
      "source": [
        "## Loading the model from a saved file\n",
        "\n",
        "Run the code cells below once the model has already been trained and exported to a `.pth` file.\n",
        "This code will load the model from the file and run it on a sample of the MNIST dataset and print out the dataset and the predicted labels."
      ]
    },
    {
      "cell_type": "code",
      "execution_count": 18,
      "metadata": {
        "id": "yjAdFjkJ48C3",
        "outputId": "94646ca6-8100-41af-cbcd-a12728876cd2",
        "colab": {
          "base_uri": "https://localhost:8080/"
        }
      },
      "outputs": [
        {
          "output_type": "stream",
          "name": "stderr",
          "text": [
            "<ipython-input-18-58aa63452791>:3: FutureWarning: You are using `torch.load` with `weights_only=False` (the current default value), which uses the default pickle module implicitly. It is possible to construct malicious pickle data which will execute arbitrary code during unpickling (See https://github.com/pytorch/pytorch/blob/main/SECURITY.md#untrusted-models for more details). In a future release, the default value for `weights_only` will be flipped to `True`. This limits the functions that could be executed during unpickling. Arbitrary objects will no longer be allowed to be loaded via this mode unless they are explicitly allowlisted by the user via `torch.serialization.add_safe_globals`. We recommend you start setting `weights_only=True` for any use case where you don't have full control of the loaded file. Please open an issue on GitHub for any issues related to this experimental feature.\n",
            "  pretrained_model.load_state_dict(torch.load(file_path))\n"
          ]
        },
        {
          "output_type": "execute_result",
          "data": {
            "text/plain": [
              "CNN(\n",
              "  (conv1): Conv2d(1, 32, kernel_size=(3, 3), stride=(1, 1), padding=(1, 1))\n",
              "  (conv2): Conv2d(32, 64, kernel_size=(3, 3), stride=(1, 1), padding=(1, 1))\n",
              "  (fc1): Linear(in_features=3136, out_features=64, bias=True)\n",
              "  (fc2): Linear(in_features=64, out_features=10, bias=True)\n",
              ")"
            ]
          },
          "metadata": {},
          "execution_count": 18
        }
      ],
      "source": [
        "file_path = 'mnist_cnn.pth' #Replace this with the appropriate file name\n",
        "pretrained_model = CNN()\n",
        "pretrained_model.load_state_dict(torch.load(file_path))\n",
        "pretrained_model.eval()"
      ]
    },
    {
      "cell_type": "code",
      "execution_count": 19,
      "metadata": {
        "id": "moZYW8tW48C4",
        "outputId": "5effe2ec-cbba-4a17-de5a-a1eef4155677",
        "colab": {
          "base_uri": "https://localhost:8080/",
          "height": 1000
        }
      },
      "outputs": [
        {
          "output_type": "display_data",
          "data": {
            "text/plain": [
              "<Figure size 300x300 with 1 Axes>"
            ],
            "image/png": "[encoded data removed]"
          },
          "metadata": {}
        },
        {
          "output_type": "stream",
          "name": "stdout",
          "text": [
            "True Label: 5, Predicted Label: 5\n"
          ]
        },
        {
          "output_type": "display_data",
          "data": {
            "text/plain": [
              "<Figure size 300x300 with 1 Axes>"
            ],
            "image/png": "[encoded data removed]"
          },
          "metadata": {}
        },
        {
          "output_type": "stream",
          "name": "stdout",
          "text": [
            "True Label: 6, Predicted Label: 6\n"
          ]
        },
        {
          "output_type": "display_data",
          "data": {
            "text/plain": [
              "<Figure size 300x300 with 1 Axes>"
            ],
            "image/png": "[encoded data removed]"
          },
          "metadata": {}
        },
        {
          "output_type": "stream",
          "name": "stdout",
          "text": [
            "True Label: 9, Predicted Label: 9\n"
          ]
        },
        {
          "output_type": "display_data",
          "data": {
            "text/plain": [
              "<Figure size 300x300 with 1 Axes>"
            ],
            "image/png": "[encoded data removed]"
          },
          "metadata": {}
        },
        {
          "output_type": "stream",
          "name": "stdout",
          "text": [
            "True Label: 6, Predicted Label: 6\n"
          ]
        },
        {
          "output_type": "display_data",
          "data": {
            "text/plain": [
              "<Figure size 300x300 with 1 Axes>"
            ],
            "image/png": "[encoded data removed]"
          },
          "metadata": {}
        },
        {
          "output_type": "stream",
          "name": "stdout",
          "text": [
            "True Label: 8, Predicted Label: 8\n"
          ]
        }
      ],
      "source": [
        "# Taking a random sample from the test dataset\n",
        "import random\n",
        "import matplotlib.pyplot as plt\n",
        "\n",
        "random_indexes = [random.randint(0, len(test_data)-1) for _ in range(5)]\n",
        "for random_idx in random_indexes:\n",
        "    image, label = test_data[random_idx]\n",
        "\n",
        "    # Display the image and tis label\n",
        "    image = image.squeeze()\n",
        "    plt.figure(figsize=(3, 3))  # Adjust the size as needed\n",
        "    plt.imshow(image, cmap='gray')\n",
        "    plt.title(f\"Label: {label}\")\n",
        "    plt.show()\n",
        "\n",
        "    # Optionally, print the label and its predicted value from the model\n",
        "    image = image.unsqueeze(0)  # Add batch dimension\n",
        "    with torch.no_grad():\n",
        "        output = pretrained_model(image)  # Forward pass through the model\n",
        "        _, predicted = torch.max(output.data, 1)  # Get the predicted label\n",
        "\n",
        "    print(f\"True Label: {label}, Predicted Label: {predicted.item()}\")"
      ]
    }
  ],
  "metadata": {
    "kernelspec": {
      "display_name": "Python 3",
      "language": "python",
      "name": "python3"
    },
    "language_info": {
      "codemirror_mode": {
        "name": "ipython",
        "version": 3
      },
      "file_extension": ".py",
      "mimetype": "text/x-python",
      "name": "python",
      "nbconvert_exporter": "python",
      "pygments_lexer": "ipython3",
      "version": "3.11.4"
    },
    "colab": {
      "provenance": []
    }
  },
  "nbformat": 4,
  "nbformat_minor": 0
}